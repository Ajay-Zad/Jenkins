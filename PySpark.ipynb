{
 "cells": [
  {
   "cell_type": "code",
   "execution_count": 17,
   "id": "d0a57594",
   "metadata": {},
   "outputs": [],
   "source": [
    "from pyspark import SparkConf,SparkContext\n",
    "from pyspark.sql import SQLContext,SparkSession\n",
    "from pyspark.sql import functions as f\n",
    "from pyspark.sql.types import *\n",
    "from pyspark.sql.functions import *"
   ]
  },
  {
   "cell_type": "code",
   "execution_count": 18,
   "id": "d4014b1a",
   "metadata": {},
   "outputs": [
    {
     "name": "stderr",
     "output_type": "stream",
     "text": [
      "C:\\Users\\ADMIN\\anaconda3\\lib\\site-packages\\pyspark\\sql\\context.py:77: FutureWarning: Deprecated in 3.0.0. Use SparkSession.builder.getOrCreate() instead.\n",
      "  warnings.warn(\n"
     ]
    }
   ],
   "source": [
    "#Setting the session for the pyspark\n",
    "spark = SparkSession.builder.appName(\"FaceBook\").getOrCreate()\n",
    "sqlcont=SQLContext(spark)"
   ]
  },
  {
   "cell_type": "code",
   "execution_count": 19,
   "id": "ea9b6682",
   "metadata": {},
   "outputs": [],
   "source": [
    "#Loading data into the pyspark dataframe\n",
    "df = spark.read.csv(\"E:/Hadoop Project/FBD.csv\", header=True, inferSchema=True)"
   ]
  },
  {
   "cell_type": "code",
   "execution_count": 12,
   "id": "ee0354ec",
   "metadata": {},
   "outputs": [
    {
     "name": "stdout",
     "output_type": "stream",
     "text": [
      "+-------+---+-------+--------+---------+------+------+------------+---------------------+-----+--------------+------------+---------------------+---------+------------------+\n",
      "| userid|age|dob_day|dob_year|dob_month|gender|tenure|friend_count|friendships_initiated|likes|likes_received|mobile_likes|mobile_likes_received|www_likes|www_likes_received|\n",
      "+-------+---+-------+--------+---------+------+------+------------+---------------------+-----+--------------+------------+---------------------+---------+------------------+\n",
      "|1089478| 16|      4|    1997|        4|  male|   508|         254|                  164|    5|             2|           5|                    2|        0|                 0|\n",
      "|1606897|108|      1|    1905|        3|  male|   834|         261|                  216|    5|             3|           5|                    1|        0|                 2|\n",
      "|1048577| 30|     22|    1983|        2|  male|   208|         254|                  169|    5|             4|           5|                    4|        0|                 0|\n",
      "|1105874| 18|     10|    1995|        5|  male|    94|         252|                  245|    5|            42|           5|                   20|        0|                22|\n",
      "|1282050| 18|     14|    1995|        8|  male|   679|         259|                  180|    5|           519|           5|                  404|        0|               115|\n",
      "|1975328| 20|     11|    1993|       12|female|    41|         259|                   63|    5|            56|           5|                   42|        0|                14|\n",
      "|1684986| 22|     29|    1991|        7|female|   140|         258|                  194|    5|            17|           5|                   10|        0|                 7|\n",
      "|1078394| 24|     10|    1989|        1|  male|   853|         261|                  162|    5|            53|           5|                   41|        0|                12|\n",
      "|1102442| 27|     27|    1986|        9|  male|   387|         257|                  195|    5|            13|           5|                   10|        0|                 3|\n",
      "|1173080| 38|     26|    1975|        8|female|   627|         261|                  137|    5|            12|           5|                    2|        0|                10|\n",
      "|1319452| 14|      9|    1999|        4|  male|   215|         261|                  190|    6|             1|           0|                    0|        6|                 1|\n",
      "|1868817| 23|     23|    1990|        8|  male|  1361|         261|                  134|    6|             7|           0|                    7|        6|                 0|\n",
      "|1137688|106|      2|    1907|        6|  male|  1247|         257|                  114|    6|             5|           1|                    1|        5|                 4|\n",
      "|1785533| 15|      5|    1998|        8|  male|   289|         257|                  170|    6|             6|           3|                    4|        3|                 2|\n",
      "|1563289| 19|     31|    1994|        3|  male|   509|         254|                   92|    6|            14|           4|                    5|        2|                 9|\n",
      "|1227373| 28|     28|    1985|        1|female|   899|         258|                   52|    6|            31|           3|                   27|        3|                 4|\n",
      "|1877875| 21|     12|    1992|       11|  male|   403|         258|                  210|    6|            10|           5|                    3|        1|                 7|\n",
      "|1496009| 22|      7|    1991|        7|  male|   528|         261|                  116|    6|            27|           5|                    7|        1|                20|\n",
      "|1617483| 29|     18|    1984|       12|female|   164|         254|                  221|    6|            60|           5|                   31|        1|                29|\n",
      "|1862321| 26|     15|    1987|       11|  male|   943|         256|                  117|    6|             0|           6|                    0|        0|                 0|\n",
      "+-------+---+-------+--------+---------+------+------+------------+---------------------+-----+--------------+------------+---------------------+---------+------------------+\n",
      "only showing top 20 rows\n",
      "\n"
     ]
    }
   ],
   "source": [
    "df.show()"
   ]
  },
  {
   "cell_type": "code",
   "execution_count": 22,
   "id": "b8860281",
   "metadata": {},
   "outputs": [],
   "source": [
    "rdd = df.rdd"
   ]
  },
  {
   "cell_type": "code",
   "execution_count": 20,
   "id": "d6544077",
   "metadata": {},
   "outputs": [
    {
     "data": {
      "text/plain": [
       "20314"
      ]
     },
     "execution_count": 20,
     "metadata": {},
     "output_type": "execute_result"
    }
   ],
   "source": [
    "df.count()"
   ]
  },
  {
   "cell_type": "code",
   "execution_count": 21,
   "id": "5bd89f1f",
   "metadata": {},
   "outputs": [
    {
     "name": "stdout",
     "output_type": "stream",
     "text": [
      "+-------+---+-------+--------+---------+------+------+------------+---------------------+-----+--------------+------------+---------------------+---------+------------------+\n",
      "| userid|age|dob_day|dob_year|dob_month|gender|tenure|friend_count|friendships_initiated|likes|likes_received|mobile_likes|mobile_likes_received|www_likes|www_likes_received|\n",
      "+-------+---+-------+--------+---------+------+------+------------+---------------------+-----+--------------+------------+---------------------+---------+------------------+\n",
      "|1089478| 16|      4|    1997|        4|  male|   508|         254|                  164|    5|             2|           5|                    2|        0|                 0|\n",
      "|1606897|108|      1|    1905|        3|  male|   834|         261|                  216|    5|             3|           5|                    1|        0|                 2|\n",
      "|1048577| 30|     22|    1983|        2|  male|   208|         254|                  169|    5|             4|           5|                    4|        0|                 0|\n",
      "|1105874| 18|     10|    1995|        5|  male|    94|         252|                  245|    5|            42|           5|                   20|        0|                22|\n",
      "|1282050| 18|     14|    1995|        8|  male|   679|         259|                  180|    5|           519|           5|                  404|        0|               115|\n",
      "+-------+---+-------+--------+---------+------+------+------------+---------------------+-----+--------------+------------+---------------------+---------+------------------+\n",
      "only showing top 5 rows\n",
      "\n"
     ]
    }
   ],
   "source": [
    "df.show(5)"
   ]
  },
  {
   "cell_type": "code",
   "execution_count": 23,
   "id": "788408fe",
   "metadata": {},
   "outputs": [
    {
     "name": "stdout",
     "output_type": "stream",
     "text": [
      "root\n",
      " |-- userid: integer (nullable = true)\n",
      " |-- age: integer (nullable = true)\n",
      " |-- dob_day: integer (nullable = true)\n",
      " |-- dob_year: integer (nullable = true)\n",
      " |-- dob_month: integer (nullable = true)\n",
      " |-- gender: string (nullable = true)\n",
      " |-- tenure: integer (nullable = true)\n",
      " |-- friend_count: integer (nullable = true)\n",
      " |-- friendships_initiated: integer (nullable = true)\n",
      " |-- likes: integer (nullable = true)\n",
      " |-- likes_received: integer (nullable = true)\n",
      " |-- mobile_likes: integer (nullable = true)\n",
      " |-- mobile_likes_received: integer (nullable = true)\n",
      " |-- www_likes: integer (nullable = true)\n",
      " |-- www_likes_received: integer (nullable = true)\n",
      "\n"
     ]
    }
   ],
   "source": [
    "df.printSchema() # printing schema"
   ]
  },
  {
   "cell_type": "code",
   "execution_count": 24,
   "id": "e4371c8d",
   "metadata": {},
   "outputs": [],
   "source": [
    "# feature renaming \n",
    "for col in df.columns:\n",
    "  df=df.withColumnRenamed(col,col.replace(' ','_')) # replacing space with _"
   ]
  },
  {
   "cell_type": "code",
   "execution_count": 25,
   "id": "6aa2dd6e",
   "metadata": {},
   "outputs": [
    {
     "name": "stdout",
     "output_type": "stream",
     "text": [
      "root\n",
      " |-- userid: integer (nullable = true)\n",
      " |-- age: integer (nullable = true)\n",
      " |-- dob_day: integer (nullable = true)\n",
      " |-- dob_year: integer (nullable = true)\n",
      " |-- dob_month: integer (nullable = true)\n",
      " |-- gender: string (nullable = true)\n",
      " |-- tenure: integer (nullable = true)\n",
      " |-- friend_count: integer (nullable = true)\n",
      " |-- friendships_initiated: integer (nullable = true)\n",
      " |-- likes: integer (nullable = true)\n",
      " |-- likes_received: integer (nullable = true)\n",
      " |-- mobile_likes: integer (nullable = true)\n",
      " |-- mobile_likes_received: integer (nullable = true)\n",
      " |-- www_likes: integer (nullable = true)\n",
      " |-- www_likes_received: integer (nullable = true)\n",
      "\n"
     ]
    }
   ],
   "source": [
    "df.printSchema() # printing schema"
   ]
  },
  {
   "cell_type": "code",
   "execution_count": 26,
   "id": "4df4226b",
   "metadata": {},
   "outputs": [
    {
     "name": "stdout",
     "output_type": "stream",
     "text": [
      "+-----------------+\n",
      "|         avg(age)|\n",
      "+-----------------+\n",
      "|33.38433133732535|\n",
      "+-----------------+\n",
      "\n"
     ]
    }
   ],
   "source": [
    "df.createOrReplaceTempView(\"uid_1\")\n",
    "spark.sql(\"select avg(age) from uid_1 where gender = 'female';\").show()"
   ]
  },
  {
   "cell_type": "code",
   "execution_count": 27,
   "id": "c65e9f54",
   "metadata": {},
   "outputs": [
    {
     "name": "stdout",
     "output_type": "stream",
     "text": [
      "+-----------------+\n",
      "|avg(friend_count)|\n",
      "+-----------------+\n",
      "|598.0449624500146|\n",
      "+-----------------+\n",
      "\n"
     ]
    }
   ],
   "source": [
    "spark.sql(\"select avg(friend_count) from uid_1 where gender = 'male';\").show()"
   ]
  },
  {
   "cell_type": "code",
   "execution_count": 28,
   "id": "85405132",
   "metadata": {},
   "outputs": [
    {
     "name": "stdout",
     "output_type": "stream",
     "text": [
      "+-----------------+\n",
      "|   avg(dob_month)|\n",
      "+-----------------+\n",
      "|6.396859455769043|\n",
      "+-----------------+\n",
      "\n"
     ]
    }
   ],
   "source": [
    "spark.sql(\"select avg(dob_month) from uid_1 where gender = 'male';\").show()"
   ]
  },
  {
   "cell_type": "code",
   "execution_count": 29,
   "id": "496151e3",
   "metadata": {},
   "outputs": [
    {
     "name": "stdout",
     "output_type": "stream",
     "text": [
      "+--------+\n",
      "|count(1)|\n",
      "+--------+\n",
      "|    5108|\n",
      "+--------+\n",
      "\n"
     ]
    }
   ],
   "source": [
    "spark.sql(\"select count(*) from uid_1 where age > 40;\").show()"
   ]
  },
  {
   "cell_type": "code",
   "execution_count": 30,
   "id": "5232beac",
   "metadata": {},
   "outputs": [
    {
     "name": "stdout",
     "output_type": "stream",
     "text": [
      "+-----------------+\n",
      "|avg(friend_count)|\n",
      "+-----------------+\n",
      "|598.0449624500146|\n",
      "+-----------------+\n",
      "\n"
     ]
    }
   ],
   "source": [
    "spark.sql(\"select avg(friend_count) from uid_1 where gender = 'male';\").show()"
   ]
  },
  {
   "cell_type": "code",
   "execution_count": 31,
   "id": "e0784dea",
   "metadata": {},
   "outputs": [
    {
     "name": "stdout",
     "output_type": "stream",
     "text": [
      "+-----------------+\n",
      "|avg(friend_count)|\n",
      "+-----------------+\n",
      "|731.0528942115768|\n",
      "+-----------------+\n",
      "\n"
     ]
    }
   ],
   "source": [
    "spark.sql(\"select avg(friend_count) from uid_1 where gender = 'female';\").show()"
   ]
  },
  {
   "cell_type": "code",
   "execution_count": 32,
   "id": "89dd8bfb",
   "metadata": {},
   "outputs": [
    {
     "name": "stdout",
     "output_type": "stream",
     "text": [
      "+------+-----------------+\n",
      "|gender|avg(friend_count)|\n",
      "+------+-----------------+\n",
      "|    NA|549.5121951219512|\n",
      "|female|731.0528942115768|\n",
      "|  male|598.0449624500146|\n",
      "+------+-----------------+\n",
      "\n"
     ]
    }
   ],
   "source": [
    "spark.sql(\"select gender, avg(friend_count) from uid_1 group by gender;\").show()"
   ]
  },
  {
   "cell_type": "code",
   "execution_count": 33,
   "id": "39d8f4e3",
   "metadata": {},
   "outputs": [
    {
     "name": "stdout",
     "output_type": "stream",
     "text": [
      "+-------------------+\n",
      "|avg(likes_received)|\n",
      "+-------------------+\n",
      "|  407.9756097560976|\n",
      "|  722.6289421157685|\n",
      "|  261.9710328684288|\n",
      "+-------------------+\n",
      "\n"
     ]
    }
   ],
   "source": [
    "spark.sql(\"select avg(likes_received) from uid_1 group by gender;\").show()"
   ]
  },
  {
   "cell_type": "code",
   "execution_count": 35,
   "id": "a666cad1",
   "metadata": {},
   "outputs": [
    {
     "name": "stdout",
     "output_type": "stream",
     "text": [
      "+---------------------+\n",
      "|count(likes_received)|\n",
      "+---------------------+\n",
      "|                 7643|\n",
      "+---------------------+\n",
      "\n"
     ]
    }
   ],
   "source": [
    "spark.sql(\"select count(likes_received) from uid_1 where age >= 20 and age <= 40;\").show()"
   ]
  },
  {
   "cell_type": "code",
   "execution_count": 38,
   "id": "f1567e99",
   "metadata": {},
   "outputs": [
    {
     "name": "stdout",
     "output_type": "stream",
     "text": [
      "+---------------------+---------+\n",
      "|count(likes_received)|dob_month|\n",
      "+---------------------+---------+\n",
      "|                 1675|       12|\n",
      "|                 1908|        1|\n",
      "|                 1629|        6|\n",
      "|                 1697|        3|\n",
      "|                 1799|        5|\n",
      "|                 1724|        9|\n",
      "|                 1655|        4|\n",
      "|                 1838|        8|\n",
      "|                 1677|        7|\n",
      "|                 1696|       10|\n",
      "|                 1528|       11|\n",
      "|                 1488|        2|\n",
      "+---------------------+---------+\n",
      "\n"
     ]
    }
   ],
   "source": [
    "spark.sql(\"select count(likes_received),dob_month from uid_1 group by dob_month;\").show()"
   ]
  },
  {
   "cell_type": "code",
   "execution_count": null,
   "id": "b21e0d6f",
   "metadata": {},
   "outputs": [],
   "source": []
  }
 ],
 "metadata": {
  "kernelspec": {
   "display_name": "Python 3 (ipykernel)",
   "language": "python",
   "name": "python3"
  },
  "language_info": {
   "codemirror_mode": {
    "name": "ipython",
    "version": 3
   },
   "file_extension": ".py",
   "mimetype": "text/x-python",
   "name": "python",
   "nbconvert_exporter": "python",
   "pygments_lexer": "ipython3",
   "version": "3.9.13"
  }
 },
 "nbformat": 4,
 "nbformat_minor": 5
}
